{
  "nbformat": 4,
  "nbformat_minor": 0,
  "metadata": {
    "colab": {
      "provenance": []
    },
    "kernelspec": {
      "name": "python3",
      "display_name": "Python 3"
    },
    "language_info": {
      "name": "python"
    }
  },
  "cells": [
    {
      "cell_type": "markdown",
      "source": [
        "DAY 2 ASSIGNMENT 2"
      ],
      "metadata": {
        "id": "MG17GqgxpIg7"
      }
    },
    {
      "cell_type": "code",
      "source": [
        "L = [\"Ram\", 1, \"Shyam\", 2, \"Aman\", 3]\n",
        "strings = [x for x in L if isinstance(x, str)]\n",
        "numbers = [x for x in L if isinstance(x, int)]\n",
        "strings.sort()\n",
        "numbers.sort()\n",
        "sorted_list = strings + numbers\n",
        "print(\"Original list:\", L)\n",
        "print(\"Sorted list:\", sorted_list)"
      ],
      "metadata": {
        "colab": {
          "base_uri": "https://localhost:8080/"
        },
        "id": "WmDVElJnpP7b",
        "outputId": "33e927db-c97d-4cc0-9c2b-9a560535196d"
      },
      "execution_count": null,
      "outputs": [
        {
          "output_type": "stream",
          "name": "stdout",
          "text": [
            "Original list: ['Ram', 1, 'Shyam', 2, 'Aman', 3]\n",
            "Sorted list: ['Aman', 'Ram', 'Shyam', 1, 2, 3]\n"
          ]
        }
      ]
    }
  ]
}