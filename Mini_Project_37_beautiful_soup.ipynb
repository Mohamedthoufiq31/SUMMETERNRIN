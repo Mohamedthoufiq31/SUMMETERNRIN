{
  "nbformat": 4,
  "nbformat_minor": 0,
  "metadata": {
    "colab": {
      "provenance": [],
      "authorship_tag": "ABX9TyMKToXoOl655A5G7w6m/BFT",
      "include_colab_link": true
    },
    "kernelspec": {
      "name": "python3",
      "display_name": "Python 3"
    },
    "language_info": {
      "name": "python"
    }
  },
  "cells": [
    {
      "cell_type": "markdown",
      "metadata": {
        "id": "view-in-github",
        "colab_type": "text"
      },
      "source": [
        "<a href=\"https://colab.research.google.com/github/Mohamedthoufiq31/SUMMETERNRIN/blob/main/Mini_Project_37_beautiful_soup.ipynb\" target=\"_parent\"><img src=\"https://colab.research.google.com/assets/colab-badge.svg\" alt=\"Open In Colab\"/></a>"
      ]
    },
    {
      "cell_type": "code",
      "execution_count": null,
      "metadata": {
        "colab": {
          "base_uri": "https://localhost:8080/"
        },
        "id": "tZ6GSD-blVHm",
        "outputId": "16c290ec-8964-41aa-9403-08e79578570c"
      },
      "outputs": [
        {
          "output_type": "stream",
          "name": "stdout",
          "text": [
            "Requirement already satisfied: requests in /usr/local/lib/python3.10/dist-packages (2.31.0)\n",
            "Requirement already satisfied: beautifulsoup4 in /usr/local/lib/python3.10/dist-packages (4.12.3)\n",
            "Requirement already satisfied: charset-normalizer<4,>=2 in /usr/local/lib/python3.10/dist-packages (from requests) (3.3.2)\n",
            "Requirement already satisfied: idna<4,>=2.5 in /usr/local/lib/python3.10/dist-packages (from requests) (3.7)\n",
            "Requirement already satisfied: urllib3<3,>=1.21.1 in /usr/local/lib/python3.10/dist-packages (from requests) (2.0.7)\n",
            "Requirement already satisfied: certifi>=2017.4.17 in /usr/local/lib/python3.10/dist-packages (from requests) (2024.7.4)\n",
            "Requirement already satisfied: soupsieve>1.2 in /usr/local/lib/python3.10/dist-packages (from beautifulsoup4) (2.5)\n"
          ]
        }
      ],
      "source": [
        "!pip install requests beautifulsoup4"
      ]
    },
    {
      "cell_type": "code",
      "source": [
        "import requests\n",
        "from bs4 import BeautifulSoup\n",
        "url = 'https://www.adroidconnectz.com/rmds/schedule'"
      ],
      "metadata": {
        "id": "UuciruxYmT62"
      },
      "execution_count": null,
      "outputs": []
    },
    {
      "cell_type": "code",
      "source": [
        "response = requests.get(url)\n",
        "soup = BeautifulSoup(response.text, 'html.parser')\n",
        "print(soup)"
      ],
      "metadata": {
        "colab": {
          "base_uri": "https://localhost:8080/"
        },
        "id": "VITF03E7mTzL",
        "outputId": "841d8229-a02c-4632-de13-c706b46823f2"
      },
      "execution_count": null,
      "outputs": [
        {
          "output_type": "stream",
          "name": "stdout",
          "text": [
            "<!DOCTYPE html>\n",
            "<html lang=\"en\" style=\"overflow-x:hidden;position:relative;width:100%\"><head><meta charset=\"utf-8\"/><link href=\"/favicon.ico\" rel=\"icon\"/><meta content=\"width=device-width,initial-scale=1\" name=\"viewport\"/><meta content=\"#000000\" name=\"theme-color\"/><meta content=\"Adroidconnectz,Adroid,Connectz,Research,Computing, Machine learning, Artificial learning, Networking, publishing,Summer School\" name=\"keywords\"/><meta content=\"p02roRBKNDkgwRpaEFh1c0PI2P83k53uEdy8jTxpStA\" name=\"google-site-verification\"/><meta content=\"Adroid-Connectz\" name=\"title\"/><meta content=\"Adroidconnectz is an online platform to connect students with mentors and provide them with the opportunity to grow and build their carrier.\" name=\"description\"/><link href=\"/logo192.png\" rel=\"apple-touch-icon\"/><link href=\"/manifest.json\" rel=\"manifest\"/><link href=\"https://fonts.googleapis.com\" rel=\"preconnect\"/><link crossorigin=\"\" href=\"https://fonts.gstatic.com\" rel=\"preconnect\"/><link href=\"https://fonts.googleapis.com/css2?family=Lobster&amp;display=swap\" rel=\"stylesheet\"/><link href=\"../src/components/adroidlogo.png\" rel=\"icon\" type=\"image/x-icon\"/><link href=\"https://cdnjs.cloudflare.com/ajax/libs/font-awesome/4.7.0/css/font-awesome.min.css\" rel=\"stylesheet\"/><link href=\"https://stackpath.bootstrapcdn.com/bootstrap/5.0.0-alpha1/css/bootstrap.min.css\" rel=\"stylesheet\"><script src=\"https://stackpath.bootstrapcdn.com/bootstrap/5.0.0-alpha1/js/bootstrap.bundle.min.js\"></script><script defer=\"defer\" src=\"/static/js/main.b172b922.js\"></script><link href=\"/static/css/main.0695884a.css\" rel=\"stylesheet\"/></link></head></html><link href=\"https://fonts.googleapis.com\" rel=\"preconnect\"/><link crossorigin=\"\" href=\"https://fonts.gstatic.com\" rel=\"preconnect\"/><link href=\"https://fonts.googleapis.com/css2?family=Source+Serif+Pro&amp;display=swap\" rel=\"stylesheet\"/><title>Adroidconnectz</title><link crossorigin=\"anonymous\" href=\"https://cdn.jsdelivr.net/npm/bootstrap@5.2.0-beta1/dist/css/bootstrap.min.css\" integrity=\"sha384-0evHe/X+R7YkIZDRvuzKMRqM+OrBnVFBL6DOitfPri4tjfHxaWutUpFmBp4vmVor\" rel=\"stylesheet\"/><link href=\"https://cdnjs.cloudflare.com/ajax/libs/font-awesome/4.7.0/css/font-awesome.min.css\" rel=\"stylesheet\"/><link href=\"global.css\" rel=\"stylesheet\"/><body style=\"overflow-x:hidden;position:relative;width:100%\"><noscript>You need to enable JavaScript to run this app.</noscript><div id=\"root\"></div><script crossorigin=\"anonymous\" integrity=\"sha384-pprn3073KE6tl6bjs2QrFaJGz5/SUsLqktiwsUTF55Jfv3qYSDhgCecCxMW52nD2\" src=\"https://cdn.jsdelivr.net/npm/bootstrap@5.2.0-beta1/dist/js/bootstrap.bundle.min.js\"></script></body><link crossorigin=\"anonymous\" href=\"https://cdn.jsdelivr.net/npm/bootstrap@5.2.3/dist/css/bootstrap.min.css\" integrity=\"sha384-rbsA2VBKQhggwzxH7pPCaAqO46MgnOM80zW1RWuH61DGLwZJEdK2Kadq2F9CUG65\" rel=\"stylesheet\"/>\n"
          ]
        }
      ]
    },
    {
      "cell_type": "code",
      "source": [
        "print(\"This is a backslash: \\\\\",\"This is a unicode: $\")"
      ],
      "metadata": {
        "colab": {
          "base_uri": "https://localhost:8080/"
        },
        "id": "3NO6svNamTwe",
        "outputId": "6c9c0192-df4d-441c-d476-b29f6987e2bf"
      },
      "execution_count": null,
      "outputs": [
        {
          "output_type": "stream",
          "name": "stdout",
          "text": [
            "This is a backslash: \\ This is a unicode: $\n"
          ]
        }
      ]
    },
    {
      "cell_type": "code",
      "source": [
        "soup"
      ],
      "metadata": {
        "colab": {
          "base_uri": "https://localhost:8080/"
        },
        "id": "xSQ2RDkFmTuC",
        "outputId": "7dd7454f-3656-4a6e-ae50-18b1c7b8b618"
      },
      "execution_count": null,
      "outputs": [
        {
          "output_type": "execute_result",
          "data": {
            "text/plain": [
              "<!DOCTYPE html>\n",
              "<html lang=\"en\" style=\"overflow-x:hidden;position:relative;width:100%\"><head><meta charset=\"utf-8\"/><link href=\"/favicon.ico\" rel=\"icon\"/><meta content=\"width=device-width,initial-scale=1\" name=\"viewport\"/><meta content=\"#000000\" name=\"theme-color\"/><meta content=\"Adroidconnectz,Adroid,Connectz,Research,Computing, Machine learning, Artificial learning, Networking, publishing,Summer School\" name=\"keywords\"/><meta content=\"p02roRBKNDkgwRpaEFh1c0PI2P83k53uEdy8jTxpStA\" name=\"google-site-verification\"/><meta content=\"Adroid-Connectz\" name=\"title\"/><meta content=\"Adroidconnectz is an online platform to connect students with mentors and provide them with the opportunity to grow and build their carrier.\" name=\"description\"/><link href=\"/logo192.png\" rel=\"apple-touch-icon\"/><link href=\"/manifest.json\" rel=\"manifest\"/><link href=\"https://fonts.googleapis.com\" rel=\"preconnect\"/><link crossorigin=\"\" href=\"https://fonts.gstatic.com\" rel=\"preconnect\"/><link href=\"https://fonts.googleapis.com/css2?family=Lobster&amp;display=swap\" rel=\"stylesheet\"/><link href=\"../src/components/adroidlogo.png\" rel=\"icon\" type=\"image/x-icon\"/><link href=\"https://cdnjs.cloudflare.com/ajax/libs/font-awesome/4.7.0/css/font-awesome.min.css\" rel=\"stylesheet\"/><link href=\"https://stackpath.bootstrapcdn.com/bootstrap/5.0.0-alpha1/css/bootstrap.min.css\" rel=\"stylesheet\"><script src=\"https://stackpath.bootstrapcdn.com/bootstrap/5.0.0-alpha1/js/bootstrap.bundle.min.js\"></script><script defer=\"defer\" src=\"/static/js/main.b172b922.js\"></script><link href=\"/static/css/main.0695884a.css\" rel=\"stylesheet\"/></link></head></html><link href=\"https://fonts.googleapis.com\" rel=\"preconnect\"/><link crossorigin=\"\" href=\"https://fonts.gstatic.com\" rel=\"preconnect\"/><link href=\"https://fonts.googleapis.com/css2?family=Source+Serif+Pro&amp;display=swap\" rel=\"stylesheet\"/><title>Adroidconnectz</title><link crossorigin=\"anonymous\" href=\"https://cdn.jsdelivr.net/npm/bootstrap@5.2.0-beta1/dist/css/bootstrap.min.css\" integrity=\"sha384-0evHe/X+R7YkIZDRvuzKMRqM+OrBnVFBL6DOitfPri4tjfHxaWutUpFmBp4vmVor\" rel=\"stylesheet\"/><link href=\"https://cdnjs.cloudflare.com/ajax/libs/font-awesome/4.7.0/css/font-awesome.min.css\" rel=\"stylesheet\"/><link href=\"global.css\" rel=\"stylesheet\"/><body style=\"overflow-x:hidden;position:relative;width:100%\"><noscript>You need to enable JavaScript to run this app.</noscript><div id=\"root\"></div><script crossorigin=\"anonymous\" integrity=\"sha384-pprn3073KE6tl6bjs2QrFaJGz5/SUsLqktiwsUTF55Jfv3qYSDhgCecCxMW52nD2\" src=\"https://cdn.jsdelivr.net/npm/bootstrap@5.2.0-beta1/dist/js/bootstrap.bundle.min.js\"></script></body><link crossorigin=\"anonymous\" href=\"https://cdn.jsdelivr.net/npm/bootstrap@5.2.3/dist/css/bootstrap.min.css\" integrity=\"sha384-rbsA2VBKQhggwzxH7pPCaAqO46MgnOM80zW1RWuH61DGLwZJEdK2Kadq2F9CUG65\" rel=\"stylesheet\"/>"
            ]
          },
          "metadata": {},
          "execution_count": 14
        }
      ]
    },
    {
      "cell_type": "code",
      "source": [
        "var = \"Hello \\n World \\t !\"\n",
        "print(\"Humman readable foramt and computer readable format\",var)\n",
        "var"
      ],
      "metadata": {
        "colab": {
          "base_uri": "https://localhost:8080/",
          "height": 70
        },
        "id": "kgC-4wgcmTrl",
        "outputId": "a4093c15-99a0-4855-cabb-f7595d15052f"
      },
      "execution_count": null,
      "outputs": [
        {
          "output_type": "stream",
          "name": "stdout",
          "text": [
            "Humman readable foramt and computer readable format Hello \n",
            " World \t !\n"
          ]
        },
        {
          "output_type": "execute_result",
          "data": {
            "text/plain": [
              "'Hello \\n World \\t !'"
            ],
            "application/vnd.google.colaboratory.intrinsic+json": {
              "type": "string"
            }
          },
          "metadata": {},
          "execution_count": 17
        }
      ]
    },
    {
      "cell_type": "code",
      "source": [
        "title = soup.title.text\n",
        "print('Page title:\\n', title)"
      ],
      "metadata": {
        "colab": {
          "base_uri": "https://localhost:8080/"
        },
        "id": "tuIq2DaBmTpQ",
        "outputId": "07d583ff-3e5b-4efb-842c-a77faf1dd055"
      },
      "execution_count": null,
      "outputs": [
        {
          "output_type": "stream",
          "name": "stdout",
          "text": [
            "Page title:\n",
            " Adroidconnectz\n"
          ]
        }
      ]
    },
    {
      "cell_type": "code",
      "source": [
        "links = soup.find_all('a')\n",
        "print('Links:')\n",
        "for link in links:\n",
        "    print(link.get('href'))"
      ],
      "metadata": {
        "colab": {
          "base_uri": "https://localhost:8080/"
        },
        "id": "WGsMkmDumTmj",
        "outputId": "5d4243cd-3576-4dae-b8cc-df4db7601126"
      },
      "execution_count": null,
      "outputs": [
        {
          "output_type": "stream",
          "name": "stdout",
          "text": [
            "Links:\n"
          ]
        }
      ]
    },
    {
      "cell_type": "code",
      "source": [
        "print(soup.get_text())"
      ],
      "metadata": {
        "colab": {
          "base_uri": "https://localhost:8080/"
        },
        "id": "7O9yDALImTj4",
        "outputId": "e142f258-6d3f-4e4c-c9c5-5e3219dc8b05"
      },
      "execution_count": null,
      "outputs": [
        {
          "output_type": "stream",
          "name": "stdout",
          "text": [
            "AdroidconnectzYou need to enable JavaScript to run this app.\n"
          ]
        }
      ]
    },
    {
      "source": [
        "# Try to find all <p> tags and check if any exist\n",
        "paragraphs = soup.find_all('p')\n",
        "\n",
        "if paragraphs:\n",
        "    # Assuming the first <p> tag has the class you're interested in\n",
        "    first_paragraph_class = paragraphs[0].get('class')\n",
        "    print(first_paragraph_class)\n",
        "else:\n",
        "    print(\"No <p> tags found in the HTML.\")"
      ],
      "cell_type": "code",
      "metadata": {
        "id": "TFv-sB3ZpxGa",
        "outputId": "6266dba3-6a44-4260-b4c6-78b0e126c215",
        "colab": {
          "base_uri": "https://localhost:8080/"
        }
      },
      "execution_count": null,
      "outputs": [
        {
          "output_type": "stream",
          "name": "stdout",
          "text": [
            "No <p> tags found in the HTML.\n"
          ]
        }
      ]
    }
  ]
}