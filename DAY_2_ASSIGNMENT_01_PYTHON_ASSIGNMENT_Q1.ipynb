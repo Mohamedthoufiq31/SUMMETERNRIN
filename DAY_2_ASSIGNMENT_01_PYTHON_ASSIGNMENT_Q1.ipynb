{
  "nbformat": 4,
  "nbformat_minor": 0,
  "metadata": {
    "colab": {
      "provenance": []
    },
    "kernelspec": {
      "name": "python3",
      "display_name": "Python 3"
    },
    "language_info": {
      "name": "python"
    }
  },
  "cells": [
    {
      "cell_type": "markdown",
      "source": [
        "DAY  2 : ASSIGNMENT 01-PYTHON ASSIGNMENT  \n",
        "Q1"
      ],
      "metadata": {
        "id": "2yxy6v60VKUk"
      }
    },
    {
      "cell_type": "code",
      "source": [
        "#A) WAP to add 50 and 60 to L.\n",
        "L = [11, 12, 13, 14]\n",
        "L.append(50)\n",
        "L.append(60)\n",
        "print(L)\n"
      ],
      "metadata": {
        "colab": {
          "base_uri": "https://localhost:8080/"
        },
        "id": "B-skS0uEV9ix",
        "outputId": "aec4536a-73f2-4f2c-beaa-2e741aa63724"
      },
      "execution_count": null,
      "outputs": [
        {
          "output_type": "stream",
          "name": "stdout",
          "text": [
            "[11, 12, 13, 14, 50, 60]\n"
          ]
        }
      ]
    },
    {
      "cell_type": "code",
      "source": [
        "#B) WAP to remove 11 and 13from L.\n",
        "L = [11, 12, 13, 14]\n",
        "L.remove(11)\n",
        "L.remove(13)\n",
        "print(L)\n"
      ],
      "metadata": {
        "colab": {
          "base_uri": "https://localhost:8080/"
        },
        "id": "860kXoPXWe9F",
        "outputId": "466e6c07-629f-40bc-ac7f-0166f99a931e"
      },
      "execution_count": null,
      "outputs": [
        {
          "output_type": "stream",
          "name": "stdout",
          "text": [
            "[12, 14]\n"
          ]
        }
      ]
    },
    {
      "cell_type": "code",
      "source": [
        "#C) WAP to sort L in ascending order\n",
        "L = [11, 12, 13, 14]\n",
        "L.sort()\n",
        "print(L)\n"
      ],
      "metadata": {
        "colab": {
          "base_uri": "https://localhost:8080/"
        },
        "id": "mDMmnuxAWkXU",
        "outputId": "1b5d8bb9-c84e-4473-b231-9f9b0e444135"
      },
      "execution_count": null,
      "outputs": [
        {
          "output_type": "stream",
          "name": "stdout",
          "text": [
            "[11, 12, 13, 14]\n"
          ]
        }
      ]
    },
    {
      "cell_type": "code",
      "source": [
        "#D) WAP to sort L in descending order.\n",
        "L = [11, 12, 13, 14]\n",
        "L.sort(reverse=True)\n",
        "print(L)\n"
      ],
      "metadata": {
        "colab": {
          "base_uri": "https://localhost:8080/"
        },
        "id": "gZZWF8p9Obrf",
        "outputId": "8cb6db14-726a-4be3-aadb-77b2728c6229"
      },
      "execution_count": null,
      "outputs": [
        {
          "output_type": "stream",
          "name": "stdout",
          "text": [
            "[14, 13, 12, 11]\n"
          ]
        }
      ]
    },
    {
      "cell_type": "code",
      "source": [
        "#E) WAP to search for 13 in L.\n",
        "L = [11, 12, 13, 14]\n",
        "if 13 in L:\n",
        "    print(\"13 is present in L\")\n",
        "else:\n",
        "    print(\"13 is not present in L\")\n"
      ],
      "metadata": {
        "colab": {
          "base_uri": "https://localhost:8080/"
        },
        "id": "4c9VYPehRNES",
        "outputId": "f52300ce-933d-4c7f-8ab7-126628d6c92c"
      },
      "execution_count": null,
      "outputs": [
        {
          "output_type": "stream",
          "name": "stdout",
          "text": [
            "13 is present in L\n"
          ]
        }
      ]
    },
    {
      "cell_type": "code",
      "source": [
        "#F) WAP to count the number of elements present in L.\n",
        "L = [11, 12, 13, 14]\n",
        "count = len(L)\n",
        "print(\"Number of elements in L:\", count)\n"
      ],
      "metadata": {
        "colab": {
          "base_uri": "https://localhost:8080/"
        },
        "id": "pGBcEgvRRNLT",
        "outputId": "25e358b5-cd16-4688-86dc-5f5587310157"
      },
      "execution_count": null,
      "outputs": [
        {
          "output_type": "stream",
          "name": "stdout",
          "text": [
            "Number of elements in L: 4\n"
          ]
        }
      ]
    },
    {
      "cell_type": "code",
      "source": [
        "#G) WAP to sum all the elements in L.\n",
        "L = [11, 12, 13, 14]\n",
        "sum_elements = sum(L)\n",
        "print(\"Sum of all elements in L:\", sum_elements)\n"
      ],
      "metadata": {
        "colab": {
          "base_uri": "https://localhost:8080/"
        },
        "id": "nKSaHwYPRNNv",
        "outputId": "9a40875d-cb34-4f14-9d81-132813f128c0"
      },
      "execution_count": null,
      "outputs": [
        {
          "output_type": "stream",
          "name": "stdout",
          "text": [
            "Sum of all elements in L: 50\n"
          ]
        }
      ]
    },
    {
      "cell_type": "code",
      "source": [
        "#H) WAP to sum all ODD numbers in L.\n",
        "L = [11, 12, 13, 14]\n",
        "sum_odd = sum(num for num in L if num % 2 != 0)\n",
        "print(\"Sum of all odd numbers in L:\", sum_odd)\n"
      ],
      "metadata": {
        "colab": {
          "base_uri": "https://localhost:8080/"
        },
        "id": "lCkhcYPfRNQS",
        "outputId": "7460c873-6eba-4532-843b-b09850cbcbfa"
      },
      "execution_count": null,
      "outputs": [
        {
          "output_type": "stream",
          "name": "stdout",
          "text": [
            "Sum of all odd numbers in L: 24\n"
          ]
        }
      ]
    },
    {
      "cell_type": "code",
      "source": [
        "#I) WAP to sum all EVEN numbers in L.\n",
        "L = [11, 12, 13, 14]\n",
        "sum_even = sum(num for num in L if num % 2 == 0)\n",
        "print(\"Sum of all even numbers in L:\", sum_even)\n"
      ],
      "metadata": {
        "colab": {
          "base_uri": "https://localhost:8080/"
        },
        "id": "Ma1_ZOzYTamy",
        "outputId": "586952e8-a47f-40d2-ebf9-dc1cf5d350b3"
      },
      "execution_count": null,
      "outputs": [
        {
          "output_type": "stream",
          "name": "stdout",
          "text": [
            "Sum of all even numbers in L: 26\n"
          ]
        }
      ]
    },
    {
      "cell_type": "code",
      "source": [
        "#J) WAP to sum all PRIME numbers in L.\n",
        "def is_prime(n):\n",
        "    if n <= 1:\n",
        "      return False\n",
        "    if n == 2:\n",
        "        return True\n",
        "L = [11, 12, 13, 20]\n",
        "sum_prime = sum(num for num in L if is_prime(num))\n",
        "print(\"Sum of all prime numbers in L:\", sum_prime)\n"
      ],
      "metadata": {
        "colab": {
          "base_uri": "https://localhost:8080/"
        },
        "id": "hS8dXSwjTao9",
        "outputId": "7940828f-f793-4fec-95f3-d4fe87552ef5"
      },
      "execution_count": null,
      "outputs": [
        {
          "output_type": "stream",
          "name": "stdout",
          "text": [
            "Sum of all prime numbers in L: 0\n"
          ]
        }
      ]
    },
    {
      "cell_type": "code",
      "source": [
        "#K) WAP to clear all the elements in L.\n",
        "\n",
        "L = [11, 12, 13, 14]\n",
        "L.clear()\n",
        "print(\"L after clearing all elements:\", L)\n"
      ],
      "metadata": {
        "colab": {
          "base_uri": "https://localhost:8080/"
        },
        "id": "lgJK5Fd5Tavn",
        "outputId": "a6234abb-7be1-46a8-9308-f2f047ca8522"
      },
      "execution_count": null,
      "outputs": [
        {
          "output_type": "stream",
          "name": "stdout",
          "text": [
            "L after clearing all elements: []\n"
          ]
        }
      ]
    },
    {
      "cell_type": "code",
      "source": [
        "#L) WAP to delete L.\n",
        "L = [11, 12, 13, 14]\n",
        "del L\n",
        "print(\"L is deleted\")\n",
        "\n"
      ],
      "metadata": {
        "colab": {
          "base_uri": "https://localhost:8080/"
        },
        "id": "qVILmhf2U5yK",
        "outputId": "c14fbc83-a6f2-481a-c7f2-10a2355b08ee"
      },
      "execution_count": null,
      "outputs": [
        {
          "output_type": "stream",
          "name": "stdout",
          "text": [
            "L is deleted\n"
          ]
        }
      ]
    },
    {
      "cell_type": "markdown",
      "source": [
        "Q2  D is a dictionary defined as D= {1:5.6, 2:7.8, 3:6.6, 4:8.7, 5:7.7}.\n",
        "  "
      ],
      "metadata": {
        "id": "Ovvg2yX1XQvQ"
      }
    },
    {
      "cell_type": "code",
      "source": [
        "D= {1:5.6, 2:7.8, 3:6.6, 4:8.7, 5:7.7}"
      ],
      "metadata": {
        "id": "XvzQaZhqX0XB"
      },
      "execution_count": null,
      "outputs": []
    },
    {
      "cell_type": "code",
      "source": [
        "#(i)\tWAP to add new entry in D; key=8 and value is 8.8\n",
        "D[8] = 8.8\n",
        "print(\"Dictionary after adding new entry:\", D)\n"
      ],
      "metadata": {
        "colab": {
          "base_uri": "https://localhost:8080/"
        },
        "id": "INBZYxiBXbBG",
        "outputId": "917969f9-f99e-4918-e844-3b344c370b6d"
      },
      "execution_count": null,
      "outputs": [
        {
          "output_type": "stream",
          "name": "stdout",
          "text": [
            "Dictionary after adding new entry: {1: 5.6, 2: 7.8, 3: 6.6, 4: 8.7, 5: 7.7, 8: 8.8}\n"
          ]
        }
      ]
    },
    {
      "cell_type": "code",
      "source": [
        "#(ii)\tWAP to remove key=2.\n",
        "if 2 in D:\n",
        "  del D[2]\n",
        "  print(\"Dictionary after removing key=2:\", D)\n",
        "else:\n",
        "  print(\"Key=2 is not present in the dictionary.\")\n"
      ],
      "metadata": {
        "colab": {
          "base_uri": "https://localhost:8080/"
        },
        "id": "oBa2koUXXc30",
        "outputId": "fca721d6-3864-417f-8be2-7c47ee097866"
      },
      "execution_count": null,
      "outputs": [
        {
          "output_type": "stream",
          "name": "stdout",
          "text": [
            "Dictionary after removing key=2: {1: 5.6, 3: 6.6, 4: 8.7, 5: 7.7, 8: 8.8}\n"
          ]
        }
      ]
    },
    {
      "cell_type": "code",
      "source": [
        "#(iii)\tWAP to check weather 6 key is present in D.\n",
        "if 6 in D:\n",
        "    print(\"Key=6 is present in the dictionary.\")\n",
        "else:\n",
        "    print(\"Key=6 is not present in the dictionary.\")\n"
      ],
      "metadata": {
        "colab": {
          "base_uri": "https://localhost:8080/"
        },
        "id": "PjQuYnVNXc1u",
        "outputId": "451dab42-ee67-47da-c9f0-c0a4bcdf8abd"
      },
      "execution_count": null,
      "outputs": [
        {
          "output_type": "stream",
          "name": "stdout",
          "text": [
            "Key=6 is not present in the dictionary.\n"
          ]
        }
      ]
    },
    {
      "cell_type": "code",
      "source": [
        "#(iv)\tWAP to count the number of elements present in D.\n",
        "num_elements = len(D)\n",
        "print(\"Number of elements in the dictionary D:\", num_elements)\n"
      ],
      "metadata": {
        "colab": {
          "base_uri": "https://localhost:8080/"
        },
        "id": "1ZxWQzN0XczJ",
        "outputId": "f8dd6d4f-c996-4d16-b44b-2a8c0bf55649"
      },
      "execution_count": null,
      "outputs": [
        {
          "output_type": "stream",
          "name": "stdout",
          "text": [
            "Number of elements in the dictionary D: 5\n"
          ]
        }
      ]
    },
    {
      "cell_type": "code",
      "source": [
        "#(v)\tWAP to add all the values present D.\n",
        "total_sum = sum(D.values())\n",
        "print(\"Sum of all values in the dictionary D:\", total_sum)\n"
      ],
      "metadata": {
        "colab": {
          "base_uri": "https://localhost:8080/"
        },
        "id": "RVC0nUg8Xcwk",
        "outputId": "0ff04f93-8f81-494a-a123-0bc5535de5aa"
      },
      "execution_count": null,
      "outputs": [
        {
          "output_type": "stream",
          "name": "stdout",
          "text": [
            "Sum of all values in the dictionary D: 37.4\n"
          ]
        }
      ]
    },
    {
      "cell_type": "code",
      "source": [
        "#(vi)\tWAP to update the value of 3 to 7.1.\n",
        "if 3 in D:\n",
        "       D[3] = 7.1\n",
        "       print(\"Dictionary after updating key=3:\", D)\n",
        "else:\n",
        "    print(\"Key=3 is not present in the dictionary.\")\n"
      ],
      "metadata": {
        "colab": {
          "base_uri": "https://localhost:8080/"
        },
        "id": "tA3ZdtPjYqVU",
        "outputId": "f1a6522c-2112-4841-fc9d-d11ea87a5c6b"
      },
      "execution_count": null,
      "outputs": [
        {
          "output_type": "stream",
          "name": "stdout",
          "text": [
            "Dictionary after updating key=3: {1: 5.6, 3: 7.1, 4: 8.7, 5: 7.7, 8: 8.8}\n"
          ]
        }
      ]
    },
    {
      "cell_type": "code",
      "source": [
        "#(vii)\tWAP to clear the dictionary Code :\n",
        "D.clear()\n",
        "print(\"Dictionary D after clearing all elements:\", D)\n"
      ],
      "metadata": {
        "colab": {
          "base_uri": "https://localhost:8080/"
        },
        "id": "sScSIiynYqS3",
        "outputId": "c72f835d-d410-4f87-cccb-dd18c6c93d3a"
      },
      "execution_count": null,
      "outputs": [
        {
          "output_type": "stream",
          "name": "stdout",
          "text": [
            "Dictionary D after clearing all elements: {}\n"
          ]
        }
      ]
    },
    {
      "cell_type": "markdown",
      "source": [
        " Q3.S1 is a set defined as S1= [10, 20, 30, 40, 50, 60].\n",
        "\n",
        " S2 is a set defined as S2= [40, 50, 60, 70, 80, 90]   \n"
      ],
      "metadata": {
        "id": "YdDwGtA3ZFaw"
      }
    },
    {
      "cell_type": "code",
      "source": [
        "S1= [10, 20, 30, 40, 50, 60]\n",
        "S2= [40, 50, 60, 70, 80, 90]"
      ],
      "metadata": {
        "id": "6XprT86BZSZ1"
      },
      "execution_count": null,
      "outputs": []
    },
    {
      "cell_type": "code",
      "source": [
        "#A)WAP to add 55 and 66 in Set S1.\n",
        "S1 = {10, 20, 30, 40, 50, 60}\n",
        "S1.add(55)\n",
        "S1.add(66)\n",
        "print(\"Set S1 after adding 55 and 66:\", S1)\n"
      ],
      "metadata": {
        "colab": {
          "base_uri": "https://localhost:8080/"
        },
        "id": "ZwGdKQBoZo5V",
        "outputId": "e92debd8-4dad-4d36-8ba3-c6c0a7ccfd32"
      },
      "execution_count": null,
      "outputs": [
        {
          "output_type": "stream",
          "name": "stdout",
          "text": [
            "Set S1 after adding 55 and 66: {50, 66, 20, 55, 40, 10, 60, 30}\n"
          ]
        }
      ]
    },
    {
      "cell_type": "code",
      "source": [
        "#C) WAP to remove 10 and 30 from Set S1.\n",
        "S1 = {10, 20, 30, 40, 50, 60}\n",
        "# Removing elements from the set\n",
        "S1.discard(10)\n",
        "S1.discard(30)\n",
        "print(\"Set S1 after removing 10 and 30:\", S1)\n"
      ],
      "metadata": {
        "colab": {
          "base_uri": "https://localhost:8080/"
        },
        "id": "TW5BUxFXZo25",
        "outputId": "3904056d-e291-4f96-9887-65573f904f34"
      },
      "execution_count": null,
      "outputs": [
        {
          "output_type": "stream",
          "name": "stdout",
          "text": [
            "Set S1 after removing 10 and 30: {50, 20, 40, 60}\n"
          ]
        }
      ]
    },
    {
      "cell_type": "code",
      "source": [
        "#D) WAP to check whether 40 is present in S1.\n",
        "\n",
        "S1 = {10, 20, 30, 40, 50, 60} # Checking if an element is present if 40 in S1:     print(\"40 is present in S1\") else:\n",
        "print(\"40 is not present in S1\")"
      ],
      "metadata": {
        "colab": {
          "base_uri": "https://localhost:8080/"
        },
        "id": "IfFG2YZNZo0t",
        "outputId": "0eb17b2b-4934-4957-bf91-dd19fb667408"
      },
      "execution_count": null,
      "outputs": [
        {
          "output_type": "stream",
          "name": "stdout",
          "text": [
            "40 is not present in S1\n"
          ]
        }
      ]
    },
    {
      "cell_type": "code",
      "source": [
        "#E)  WAP to find the union between S1 and S2\n",
        "S1 = {10, 20, 30, 40, 50, 60}\n",
        "S2 = {40, 50, 60, 70, 80, 90}\n",
        "union_set = S1.union(S2)\n",
        "print(\"Union of S1 and S2:\", union_set)\n"
      ],
      "metadata": {
        "colab": {
          "base_uri": "https://localhost:8080/"
        },
        "id": "tK1nSjBKalmz",
        "outputId": "b53378e4-de26-4907-df29-a15a91a8ad67"
      },
      "execution_count": null,
      "outputs": [
        {
          "output_type": "stream",
          "name": "stdout",
          "text": [
            "Union of S1 and S2: {70, 40, 10, 80, 50, 20, 90, 60, 30}\n"
          ]
        }
      ]
    },
    {
      "cell_type": "code",
      "source": [
        "#F)  WAP to find the intersection between S1 and S2.\n",
        "\n",
        "S1 = {10, 20, 30, 40, 50, 60}\n",
        "S2 = {40, 50, 60, 70, 80, 90}\n",
        "intersection_set = S1.intersection(S2)\n",
        "print(\"Intersection of S1 and S2:\", intersection_set)"
      ],
      "metadata": {
        "colab": {
          "base_uri": "https://localhost:8080/"
        },
        "id": "j1eTnYh3alZ1",
        "outputId": "b2fd9fe7-b6b4-469c-dcd6-d1ceb3aff74a"
      },
      "execution_count": null,
      "outputs": [
        {
          "output_type": "stream",
          "name": "stdout",
          "text": [
            "Intersection of S1 and S2: {40, 50, 60}\n"
          ]
        }
      ]
    },
    {
      "cell_type": "code",
      "source": [
        "#G) WAP to find the S1 - S2.\n",
        "\n",
        "S1 = {10, 20, 30, 40, 50, 60}\n",
        "S2 = {40, 50, 60, 70, 80, 90}\n",
        "difference_set = S1 - S2\n",
        "print(\"Set difference (S1 - S2):\", difference_set)"
      ],
      "metadata": {
        "colab": {
          "base_uri": "https://localhost:8080/"
        },
        "id": "GqyH_mIObgNW",
        "outputId": "7e0a3585-5d3a-4ea5-9456-a93d6e017fb4"
      },
      "execution_count": null,
      "outputs": [
        {
          "output_type": "stream",
          "name": "stdout",
          "text": [
            "Set difference (S1 - S2): {10, 20, 30}\n"
          ]
        }
      ]
    },
    {
      "cell_type": "markdown",
      "source": [
        "Q4\n",
        "Write the following program.  \n",
        "(i)\tWAP to print 100 random strings whose length between 6 and 8.  \n",
        "(ii)\tWAP to print all prime numbers between 600 and 800.  \n",
        "(iii)\tWAP to print all numbers between 100 and 1000 that are divisible by 7 and 9.\n"
      ],
      "metadata": {
        "id": "c2OfIF4jcoLD"
      }
    },
    {
      "cell_type": "code",
      "source": [
        "#(i) WAP to print 100 random strings whose length between 6 and 8.\n",
        "import random\n",
        "import string\n",
        "\n",
        "def generate_random_string(length):\n",
        "    letters = string.ascii_letters + string.digits\n",
        "    return ''.join(random.choice(letters) for i in range(length))\n",
        "\n",
        "def main():\n",
        "    random_strings = [generate_random_string(random.randint(6, 8)) for _ in range(100)]\n",
        "    for index, s in enumerate(random_strings, start=1):\n",
        "        print(f\"{index:03d}: {s}\")\n",
        "\n",
        "if __name__ == \"__main__\":\n",
        "    main()\n"
      ],
      "metadata": {
        "colab": {
          "base_uri": "https://localhost:8080/"
        },
        "id": "QmB2WqiEdCbX",
        "outputId": "daaa1a83-8c8b-4ca4-ef89-673f49cdb489"
      },
      "execution_count": null,
      "outputs": [
        {
          "output_type": "stream",
          "name": "stdout",
          "text": [
            "001: ZQWLyaS\n",
            "002: Nfyr6Q\n",
            "003: Xr76kr\n",
            "004: j0M3QX\n",
            "005: cUPlym\n",
            "006: rUdjbd\n",
            "007: InbTFUo\n",
            "008: UTJDRhLJ\n",
            "009: wkhcN0NU\n",
            "010: wKLQjFLG\n",
            "011: aVLuj8iN\n",
            "012: 7Mm7vS\n",
            "013: DXIQWD\n",
            "014: qMPUNQN\n",
            "015: XosRgNL5\n",
            "016: cbTOrdjz\n",
            "017: irzvWsYa\n",
            "018: IAgziR1m\n",
            "019: EKNd4G7Y\n",
            "020: FCXTNp\n",
            "021: Pb6Ug4FB\n",
            "022: lfi7JQwc\n",
            "023: gt5huoDj\n",
            "024: KZRXpGD\n",
            "025: 7jxJdkyH\n",
            "026: FUQjKk4\n",
            "027: w8Uuagy\n",
            "028: cKtWHS\n",
            "029: FhTCXex\n",
            "030: yMcgRsr\n",
            "031: k4FpP8\n",
            "032: p8nj6GEe\n",
            "033: 0Oj30CZW\n",
            "034: 8rpZkWDu\n",
            "035: n11tc6\n",
            "036: RE0c9G\n",
            "037: ke2azUXV\n",
            "038: gkeC8SIL\n",
            "039: Gwhfbm\n",
            "040: FURRbvyo\n",
            "041: WqyVNM8\n",
            "042: WVSsCmFf\n",
            "043: 1DXgCq\n",
            "044: Gt0rgEA\n",
            "045: yWfL49S\n",
            "046: zzgZ6Q\n",
            "047: vp6tlg\n",
            "048: ZtHkgPaA\n",
            "049: Yx0tLs\n",
            "050: sAJOt0q\n",
            "051: lZzVI8hI\n",
            "052: IZmWZ4\n",
            "053: pjVUcWva\n",
            "054: 60fvPC\n",
            "055: 3ouzz8\n",
            "056: LZBhWX\n",
            "057: frW5C5\n",
            "058: IldsHLJ\n",
            "059: aMjdmFE\n",
            "060: KVAMtFgo\n",
            "061: y9mxGUs\n",
            "062: QTZkBeZ\n",
            "063: xCd77R\n",
            "064: nh4u7Dp\n",
            "065: TUqhFV\n",
            "066: nVWMdL\n",
            "067: LyrzrT\n",
            "068: WZzJy7\n",
            "069: jyQYBQ9\n",
            "070: pGqn3vP\n",
            "071: SsD90lCy\n",
            "072: JAccQZp\n",
            "073: MQbnuGf\n",
            "074: 4ZOAl1\n",
            "075: dCfS2kyF\n",
            "076: bq68Bd\n",
            "077: JLYdFbC\n",
            "078: 3sVgUmf\n",
            "079: 57ga9jqQ\n",
            "080: 68KAYON\n",
            "081: shA6L2Gk\n",
            "082: xMfJfeN\n",
            "083: Q79M4ZU\n",
            "084: 065VCUf\n",
            "085: 8dww9wPV\n",
            "086: yd9LqMnT\n",
            "087: Wl0Dyf\n",
            "088: W9uU3Ecd\n",
            "089: zgaA1z\n",
            "090: LP9GXJ\n",
            "091: eCukXbp\n",
            "092: y2FNzUop\n",
            "093: 1tZRqy\n",
            "094: sOkmhCq\n",
            "095: oRsMyo\n",
            "096: XSvO8i\n",
            "097: y3264oOf\n",
            "098: TmrKJq\n",
            "099: SaWlEzCG\n",
            "100: PuGFRDH\n"
          ]
        }
      ]
    },
    {
      "cell_type": "code",
      "source": [
        "#(ii) WAP to print all prime numbers between 600 and 800.\n",
        "def is_prime(n):\n",
        "    if n <= 1:\n",
        "        return False\n",
        "    for i in range(2, int(n**0.5) + 1):\n",
        "        if n % i == 0:\n",
        "            return False\n",
        "    return True\n",
        "\n",
        "def main():\n",
        "    primes = [num for num in range(600, 801) if is_prime(num)]\n",
        "    for prime in primes:\n",
        "        print(prime)\n",
        "\n",
        "if __name__ == \"__main__\":\n",
        "    main()\n"
      ],
      "metadata": {
        "colab": {
          "base_uri": "https://localhost:8080/"
        },
        "id": "l6CiQci0d1h4",
        "outputId": "298b9d15-58cd-4739-8f4c-6c2f0b16fbe5"
      },
      "execution_count": null,
      "outputs": [
        {
          "output_type": "stream",
          "name": "stdout",
          "text": [
            "601\n",
            "607\n",
            "613\n",
            "617\n",
            "619\n",
            "631\n",
            "641\n",
            "643\n",
            "647\n",
            "653\n",
            "659\n",
            "661\n",
            "673\n",
            "677\n",
            "683\n",
            "691\n",
            "701\n",
            "709\n",
            "719\n",
            "727\n",
            "733\n",
            "739\n",
            "743\n",
            "751\n",
            "757\n",
            "761\n",
            "769\n",
            "773\n",
            "787\n",
            "797\n"
          ]
        }
      ]
    },
    {
      "cell_type": "code",
      "source": [
        "#(iii) WAP to print all numbers between 100 and 1000 that are divisible by 7 and 9.\n",
        "def main():\n",
        "    for num in range(100, 1001):\n",
        "        if num % 7 == 0 and num % 9 == 0:\n",
        "            print(num)\n",
        "\n",
        "if __name__ == \"__main__\":\n",
        "    main()\n"
      ],
      "metadata": {
        "colab": {
          "base_uri": "https://localhost:8080/"
        },
        "id": "lDSd2rBAeuXi",
        "outputId": "b85e7c67-6171-4e2e-b1bf-3a716362f495"
      },
      "execution_count": null,
      "outputs": [
        {
          "output_type": "stream",
          "name": "stdout",
          "text": [
            "126\n",
            "189\n",
            "252\n",
            "315\n",
            "378\n",
            "441\n",
            "504\n",
            "567\n",
            "630\n",
            "693\n",
            "756\n",
            "819\n",
            "882\n",
            "945\n"
          ]
        }
      ]
    },
    {
      "cell_type": "markdown",
      "source": [
        "DAY 2 : ASSIGNMENT 01-PYTHON ASSIGNMENT\n",
        "\n",
        "Q5. WAP to create two lists of 10 random numbers between 10 and 30; Find  \n",
        "(i)\tCommon numbers in the two lists\n",
        "\n",
        "(ii)\tUnique numbers in both the list\n",
        "\n",
        "(iii)\tMinimum in both the list\n",
        "\n",
        "(iv) \tMaximum in both the list  Sum of both the lists  \n"
      ],
      "metadata": {
        "id": "TneqliSzfUG-"
      }
    },
    {
      "cell_type": "code",
      "source": [
        "import random\n",
        "\n",
        "# Generate two lists of 10 random numbers between 10 and 30\n",
        "list1 = [random.randint(10, 30) for _ in range(10)]\n",
        "list2 = [random.randint(10, 30) for _ in range(10)]\n",
        "\n",
        "# (i) Common numbers in the two lists\n",
        "common_numbers = list(set(list1) & set(list2))\n",
        "\n",
        "# (ii) Unique numbers in both lists\n",
        "unique_list1 = list(set(list1) - set(list2))\n",
        "unique_list2 = list(set(list2) - set(list1))\n",
        "\n",
        "# (iii) Minimum in both lists\n",
        "min_list1 = min(list1)\n",
        "min_list2 = min(list2)\n",
        "\n",
        "# (iv) Maximum in both lists\n",
        "max_list1 = max(list1)\n",
        "max_list2 = max(list2)\n",
        "\n",
        "# Sum of both lists\n",
        "sum_list1 = sum(list1)\n",
        "sum_list2 = sum(list2)\n",
        "total_sum = sum_list1 + sum_list2\n",
        "\n",
        "# Print results\n",
        "print(\"List 1:\", list1)\n",
        "print(\"List 2:\", list2)\n",
        "print(\"Common numbers:\", common_numbers)\n",
        "print(\"Unique numbers in List 1:\", unique_list1)\n",
        "print(\"Unique numbers in List 2:\", unique_list2)\n",
        "print(\"Minimum in List 1:\", min_list1)\n",
        "print(\"Minimum in List 2:\", min_list2)\n",
        "print(\"Maximum in List 1:\", max_list1)\n",
        "print(\"Maximum in List 2:\", max_list2)\n",
        "print(\"Sum of List 1:\", sum_list1)\n",
        "print(\"Sum of List 2:\", sum_list2)\n",
        "print(\"Total sum of both lists:\", total_sum)\n",
        "\n"
      ],
      "metadata": {
        "colab": {
          "base_uri": "https://localhost:8080/"
        },
        "id": "RM1AK-X4fk38",
        "outputId": "e4b2307a-70ab-40ac-e934-ae5f4a3fbc17"
      },
      "execution_count": null,
      "outputs": [
        {
          "output_type": "stream",
          "name": "stdout",
          "text": [
            "List 1: [24, 18, 24, 14, 30, 17, 30, 26, 16, 12]\n",
            "List 2: [20, 23, 19, 20, 21, 13, 19, 29, 10, 27]\n",
            "Common numbers: []\n",
            "Unique numbers in List 1: [12, 14, 16, 17, 18, 24, 26, 30]\n",
            "Unique numbers in List 2: [10, 13, 19, 20, 21, 23, 27, 29]\n",
            "Minimum in List 1: 12\n",
            "Minimum in List 2: 10\n",
            "Maximum in List 1: 30\n",
            "Maximum in List 2: 29\n",
            "Sum of List 1: 211\n",
            "Sum of List 2: 201\n",
            "Total sum of both lists: 412\n"
          ]
        }
      ]
    },
    {
      "cell_type": "markdown",
      "source": [
        "Q6. WAP to create a list of 100 random numbers between 100 and 900. Count and print the:  \n",
        "(i)All odd numbers\n",
        "\n",
        "(ii)All even numbers\n",
        "\n",
        "(iii)All prime numbers\n"
      ],
      "metadata": {
        "id": "jpUIyTe8gaZH"
      }
    },
    {
      "cell_type": "code",
      "source": [
        "import random\n",
        "\n",
        "def is_prime(n):\n",
        "    if n <= 1:\n",
        "        return False\n",
        "    for i in range(2, int(n**0.5) + 1):\n",
        "        if n % i == 0:\n",
        "            return False\n",
        "    return True\n",
        "\n",
        "def main():\n",
        "    # Generate a list of 100 random numbers between 100 and 900\n",
        "    random_numbers = [random.randint(100, 900) for _ in range(100)]\n",
        "\n",
        "    # Find all odd numbers\n",
        "    odd_numbers = [num for num in random_numbers if num % 2 != 0]\n",
        "\n",
        "    # Find all even numbers\n",
        "    even_numbers = [num for num in random_numbers if num % 2 == 0]\n",
        "\n",
        "    # Find all prime numbers\n",
        "    prime_numbers = [num for num in random_numbers if is_prime(num)]\n",
        "\n",
        "    # Print results\n",
        "    print(\"Random Numbers:\", random_numbers)\n",
        "    print(\"Count of odd numbers:\", len(odd_numbers))\n",
        "    print(\"Odd numbers:\", odd_numbers)\n",
        "    print(\"Count of even numbers:\", len(even_numbers))\n",
        "    print(\"Even numbers:\", even_numbers)\n",
        "    print(\"Count of prime numbers:\", len(prime_numbers))\n",
        "    print(\"Prime numbers:\", prime_numbers)\n",
        "\n",
        "if __name__ == \"__main__\":\n",
        "    main()\n"
      ],
      "metadata": {
        "colab": {
          "base_uri": "https://localhost:8080/"
        },
        "id": "QoMF5hW4gaHo",
        "outputId": "7afa0447-918b-4c8e-8496-32218fa05344"
      },
      "execution_count": null,
      "outputs": [
        {
          "output_type": "stream",
          "name": "stdout",
          "text": [
            "Random Numbers: [804, 796, 155, 703, 402, 146, 383, 300, 797, 118, 328, 693, 288, 402, 634, 355, 533, 577, 359, 185, 455, 367, 361, 442, 455, 658, 517, 731, 138, 593, 212, 355, 348, 278, 129, 161, 654, 509, 438, 502, 550, 465, 184, 200, 470, 663, 268, 238, 885, 398, 417, 158, 660, 182, 418, 649, 378, 114, 357, 530, 692, 801, 302, 888, 866, 871, 294, 861, 721, 545, 521, 522, 719, 761, 542, 492, 797, 153, 418, 729, 703, 497, 611, 532, 242, 306, 667, 338, 180, 299, 172, 506, 111, 382, 634, 303, 602, 215, 817, 766]\n",
            "Count of odd numbers: 47\n",
            "Odd numbers: [155, 703, 383, 797, 693, 355, 533, 577, 359, 185, 455, 367, 361, 455, 517, 731, 593, 355, 129, 161, 509, 465, 663, 885, 417, 649, 357, 801, 871, 861, 721, 545, 521, 719, 761, 797, 153, 729, 703, 497, 611, 667, 299, 111, 303, 215, 817]\n",
            "Count of even numbers: 53\n",
            "Even numbers: [804, 796, 402, 146, 300, 118, 328, 288, 402, 634, 442, 658, 138, 212, 348, 278, 654, 438, 502, 550, 184, 200, 470, 268, 238, 398, 158, 660, 182, 418, 378, 114, 530, 692, 302, 888, 866, 294, 522, 542, 492, 418, 532, 242, 306, 338, 180, 172, 506, 382, 634, 602, 766]\n",
            "Count of prime numbers: 11\n",
            "Prime numbers: [383, 797, 577, 359, 367, 593, 509, 521, 719, 761, 797]\n"
          ]
        }
      ]
    },
    {
      "cell_type": "markdown",
      "source": [
        "Q7. D is a dictionary defined as D={1:\"One\",2:\"Two\",3:\"Three\",4:\"Four\", 5:\"Five\"}. WAP to read all the keys and values from dictionary and write to the file in the given below format. Key1, Value1 Key2, Value2 Key3, Value3  "
      ],
      "metadata": {
        "id": "DL5m5pOmhVdf"
      }
    },
    {
      "cell_type": "code",
      "source": [
        "D = {1: \"One\", 2: \"Two\", 3: \"Three\", 4: \"Four\", 5: \"Five\"}\n",
        "with open(\"output.txt\", \"w\") as file:\n",
        "    for key, value in D.items():\n",
        "        file.write(f\"Key{key}, Value{value}\\n\")\n",
        "print(\"Dictionary has been written to output.txt\")"
      ],
      "metadata": {
        "colab": {
          "base_uri": "https://localhost:8080/"
        },
        "id": "3PqbgS5shp4s",
        "outputId": "3fc3f60d-311a-4766-cd15-d900967fd68d"
      },
      "execution_count": null,
      "outputs": [
        {
          "output_type": "stream",
          "name": "stdout",
          "text": [
            "Dictionary has been written to output.txt\n"
          ]
        }
      ]
    },
    {
      "cell_type": "markdown",
      "source": [
        "Q8. L is a list defined as L={\"One\",\"Two\",\"Three\",\"Four\",\"Five\"}. WAP to count the length of reach element from a list and write to the file in the given below format: One, 3 Two, 3 Four, 4"
      ],
      "metadata": {
        "id": "PPwLv1akidci"
      }
    },
    {
      "cell_type": "code",
      "source": [
        "L = [\"One\", \"Two\", \"Three\", \"Four\", \"Five\"]\n",
        "file_name = \"lengths.txt\"\n",
        "\n",
        "with open(file_name, 'w') as file:\n",
        "    for item in L:\n",
        "        length = len(item)\n",
        "        file.write(f\"{item}, {length}\\n\")\n",
        "\n",
        "print(f\"Element lengths have been written to '{file_name}'.\")\n"
      ],
      "metadata": {
        "colab": {
          "base_uri": "https://localhost:8080/"
        },
        "id": "7rjn2WDLiuTU",
        "outputId": "82277d3f-bbd6-43d7-cc02-b89ffdddac3e"
      },
      "execution_count": null,
      "outputs": [
        {
          "output_type": "stream",
          "name": "stdout",
          "text": [
            "Element lengths have been written to 'lengths.txt'.\n"
          ]
        }
      ]
    },
    {
      "cell_type": "markdown",
      "source": [
        "Q8.Write to the file 100 random strings whose length between 10 and 15.  "
      ],
      "metadata": {
        "id": "GOJN_xOckgqP"
      }
    },
    {
      "cell_type": "code",
      "source": [
        "import random\n",
        "import string\n",
        "\n",
        "file_name = \"random_strings.txt\"\n",
        "def generate_random_string(length):\n",
        "    letters = string.ascii_letters + string.digits + string.punctuation\n",
        "    return ''.join(random.choice(letters) for _ in range(length))\n",
        "with open(file_name, 'w') as file:\n",
        "    for _ in range(100):\n",
        "        length = random.randint(10, 15)\n",
        "        random_string = generate_random_string(length)\n",
        "        file.write(random_string + '\\n')\n",
        "print(f\"100 random strings have been written to '{file_name}'.\")\n"
      ],
      "metadata": {
        "colab": {
          "base_uri": "https://localhost:8080/"
        },
        "id": "ShRGEkrGkkz1",
        "outputId": "1f76a4eb-6a48-44d4-80b3-6e231a348d9e"
      },
      "execution_count": null,
      "outputs": [
        {
          "output_type": "stream",
          "name": "stdout",
          "text": [
            "100 random strings have been written to 'random_strings.txt'.\n"
          ]
        }
      ]
    },
    {
      "cell_type": "markdown",
      "source": [
        "Q10. Write to the file all prime numbers between 600 and 800.  "
      ],
      "metadata": {
        "id": "m8xd7_XMlKxq"
      }
    },
    {
      "cell_type": "code",
      "source": [
        "file_name = \"prime_numbers.txt\"\n",
        "\n",
        "# Function to check if a number is prime\n",
        "def is_prime(num):\n",
        "    if num <= 1:\n",
        "        return False\n",
        "    if num == 2:\n",
        "        return True  # 2 is prime\n",
        "    if num % 2 == 0:\n",
        "        return False  # Even numbers greater than 2 are not prime\n",
        "    for i in range(3, int(num**0.5) + 1, 2):\n",
        "        if num % i == 0:\n",
        "            return False\n",
        "    return True\n",
        "\n",
        "# Open the file in write mode\n",
        "with open(file_name, 'w') as file:\n",
        "    # Iterate through the range 600 to 800\n",
        "    for num in range(600, 801):\n",
        "        if is_prime(num):\n",
        "            file.write(f\"{num}\\n\")\n",
        "\n",
        "print(f\"Prime numbers between 600 and 800 have been written to '{file_name}'.\")\n"
      ],
      "metadata": {
        "colab": {
          "base_uri": "https://localhost:8080/"
        },
        "id": "6Y8jWmXRlMoO",
        "outputId": "d09b3d85-5e58-4aa9-acc9-dcfe1ad2e7a9"
      },
      "execution_count": null,
      "outputs": [
        {
          "output_type": "stream",
          "name": "stdout",
          "text": [
            "Prime numbers between 600 and 800 have been written to 'prime_numbers.txt'.\n"
          ]
        }
      ]
    },
    {
      "cell_type": "markdown",
      "source": [
        "Q11. WAP to calculate the time taken by a program."
      ],
      "metadata": {
        "id": "OKwBTukglkXI"
      }
    },
    {
      "cell_type": "code",
      "source": [
        "import time\n",
        "start_time = time.time()\n",
        "sum_result = sum(range(1, 1000001))\n",
        "end_time = time.time()\n",
        "elapsed_time = end_time - start_time\n",
        "print(f\"Time taken by the program: {elapsed_time:.6f} seconds\")"
      ],
      "metadata": {
        "colab": {
          "base_uri": "https://localhost:8080/"
        },
        "id": "CekZAFKslptx",
        "outputId": "57b7db0a-7e1c-44fd-909d-7977194793d5"
      },
      "execution_count": null,
      "outputs": [
        {
          "output_type": "stream",
          "name": "stdout",
          "text": [
            "Time taken by the program: 0.021890 seconds\n"
          ]
        }
      ]
    },
    {
      "cell_type": "markdown",
      "source": [
        " Q12. WAP to sort following number of elements in a list, calculate time taken and plot the graph. Number of elements in list Time Taken 5k T1 10k T2 15k T3 20k T4 25k T5  "
      ],
      "metadata": {
        "id": "sXDHAcm6mVup"
      }
    },
    {
      "cell_type": "code",
      "source": [
        "import time\n",
        "import matplotlib.pyplot as plt\n",
        "\n",
        "# Function to sort and measure time\n",
        "def sort_and_measure_time(n):\n",
        "    # Create a list of n elements with random integers\n",
        "    random_list = list(range(n))\n",
        "    random.shuffle(random_list)  # Shuffle the list to make it random\n",
        "\n",
        "    # Measure the time taken to sort the list\n",
        "    start_time = time.time()\n",
        "    sorted_list = sorted(random_list)\n",
        "    end_time = time.time()\n",
        "\n",
        "    return end_time - start_time\n",
        "\n",
        "# Number of elements in each list\n",
        "elements = [5000, 10000, 15000, 20000, 25000]\n",
        "\n",
        "# Measure time taken for each list size\n",
        "times_taken = []\n",
        "for n in elements:\n",
        "    time_taken = sort_and_measure_time(n)\n",
        "    times_taken.append(time_taken)\n",
        "\n",
        "# Plotting the graph\n",
        "plt.figure(figsize=(10, 6))\n",
        "plt.plot(elements, times_taken, marker='o', linestyle='-', color='b', label='Time Taken')\n",
        "plt.title('Time Taken to Sort Lists of Different Sizes')\n",
        "plt.xlabel('Number of Elements in List')\n",
        "plt.ylabel('Time Taken (seconds)')\n",
        "plt.grid(True)\n",
        "plt.legend()\n",
        "plt.tight_layout()\n",
        "plt.show()\n"
      ],
      "metadata": {
        "colab": {
          "base_uri": "https://localhost:8080/",
          "height": 607
        },
        "id": "9ny5ZVGzmXhy",
        "outputId": "ed08532c-1123-4cce-b57f-6ef0fc7ad35f"
      },
      "execution_count": null,
      "outputs": [
        {
          "output_type": "display_data",
          "data": {
            "text/plain": [
              "<Figure size 1000x600 with 1 Axes>"
            ],
            "image/png": "[encoded data removed]"
          },
          "metadata": {}
        }
      ]
    },
    {
      "cell_type": "markdown",
      "source": [
        "Q13. WAP to create a dictionary of student marks in five subjects and you have to  find the student having maximum and minimum average marks"
      ],
      "metadata": {
        "id": "UzfINtXzmksz"
      }
    },
    {
      "cell_type": "code",
      "source": [
        "# Dictionary of student marks\n",
        "student_marks = {\n",
        "    'Alice': [85, 90, 92, 88, 89],\n",
        "    'Bob': [79, 82, 85, 78, 80],\n",
        "    'Charlie': [90, 92, 88, 85, 86],\n",
        "    'David': [72, 68, 74, 75, 70],\n",
        "    'Eve': [95, 98, 96, 97, 94]\n",
        "}\n",
        "\n",
        "average_marks = {}\n",
        "for student, marks in student_marks.items():\n",
        "    average_marks[student] = sum(marks) / len(marks)\n",
        "max_student = max(average_marks, key=average_marks.get)\n",
        "min_student = min(average_marks, key=average_marks.get)\n",
        "\n",
        "# Print results\n",
        "print(\"Student marks:\")\n",
        "for student, marks in student_marks.items():\n",
        "    print(f\"{student}: {marks}\")\n",
        "\n",
        "print(\"\\nAverage marks:\")\n",
        "for student, avg in average_marks.items():\n",
        "    print(f\"{student}: {avg:.2f}\")\n",
        "\n",
        "print(f\"\\nStudent with maximum average marks: {max_student} ({average_marks[max_student]:.2f})\")\n",
        "print(f\"Student with minimum average marks: {min_student} ({average_marks[min_student]:.2f})\")\n"
      ],
      "metadata": {
        "colab": {
          "base_uri": "https://localhost:8080/"
        },
        "id": "XZUe142ompeH",
        "outputId": "063645e1-7656-4956-84b6-461d6cada345"
      },
      "execution_count": null,
      "outputs": [
        {
          "output_type": "stream",
          "name": "stdout",
          "text": [
            "Student marks:\n",
            "Alice: [85, 90, 92, 88, 89]\n",
            "Bob: [79, 82, 85, 78, 80]\n",
            "Charlie: [90, 92, 88, 85, 86]\n",
            "David: [72, 68, 74, 75, 70]\n",
            "Eve: [95, 98, 96, 97, 94]\n",
            "\n",
            "Average marks:\n",
            "Alice: 88.80\n",
            "Bob: 80.80\n",
            "Charlie: 88.20\n",
            "David: 71.80\n",
            "Eve: 96.00\n",
            "\n",
            "Student with maximum average marks: Eve (96.00)\n",
            "Student with minimum average marks: David (71.80)\n"
          ]
        }
      ]
    }
  ]
}