{
  "nbformat": 4,
  "nbformat_minor": 0,
  "metadata": {
    "colab": {
      "provenance": [],
      "include_colab_link": true
    },
    "kernelspec": {
      "name": "python3",
      "display_name": "Python 3"
    },
    "language_info": {
      "name": "python"
    }
  },
  "cells": [
    {
      "cell_type": "markdown",
      "metadata": {
        "id": "view-in-github",
        "colab_type": "text"
      },
      "source": [
        "<a href=\"https://colab.research.google.com/github/Mohamedthoufiq31/SUMMETERNRIN/blob/main/Mini_Project_38_Text_Extraction_.ipynb\" target=\"_parent\"><img src=\"https://colab.research.google.com/assets/colab-badge.svg\" alt=\"Open In Colab\"/></a>"
      ]
    },
    {
      "cell_type": "code",
      "source": [
        "!pip install pytesseract\n",
        "!pip install PyPDF2\n",
        "!pip install pdf2image\n",
        "!pip install pymupdf\n",
        "!apt-get install -y tesseract-ocr\n",
        "!apt-get install -y libtesseract-dev\n",
        "!apt-get install -y poppler-utils\n"
      ],
      "metadata": {
        "colab": {
          "base_uri": "https://localhost:8080/"
        },
        "id": "6v1jPrNczjiO",
        "outputId": "046f866f-c034-4ede-cff0-6aaacb8cef6f"
      },
      "execution_count": null,
      "outputs": [
        {
          "output_type": "stream",
          "name": "stdout",
          "text": [
            "Requirement already satisfied: pytesseract in /usr/local/lib/python3.10/dist-packages (0.3.10)\n",
            "Requirement already satisfied: packaging>=21.3 in /usr/local/lib/python3.10/dist-packages (from pytesseract) (24.1)\n",
            "Requirement already satisfied: Pillow>=8.0.0 in /usr/local/lib/python3.10/dist-packages (from pytesseract) (9.4.0)\n",
            "Requirement already satisfied: PyPDF2 in /usr/local/lib/python3.10/dist-packages (3.0.1)\n",
            "Requirement already satisfied: pdf2image in /usr/local/lib/python3.10/dist-packages (1.17.0)\n",
            "Requirement already satisfied: pillow in /usr/local/lib/python3.10/dist-packages (from pdf2image) (9.4.0)\n",
            "Collecting pymupdf\n",
            "  Downloading PyMuPDF-1.24.9-cp310-none-manylinux2014_x86_64.whl.metadata (3.4 kB)\n",
            "Collecting PyMuPDFb==1.24.9 (from pymupdf)\n",
            "  Downloading PyMuPDFb-1.24.9-py3-none-manylinux2014_x86_64.manylinux_2_17_x86_64.whl.metadata (1.4 kB)\n",
            "Downloading PyMuPDF-1.24.9-cp310-none-manylinux2014_x86_64.whl (3.5 MB)\n",
            "\u001b[2K   \u001b[90m━━━━━━━━━━━━━━━━━━━━━━━━━━━━━━━━━━━━━━━━\u001b[0m \u001b[32m3.5/3.5 MB\u001b[0m \u001b[31m27.7 MB/s\u001b[0m eta \u001b[36m0:00:00\u001b[0m\n",
            "\u001b[?25hDownloading PyMuPDFb-1.24.9-py3-none-manylinux2014_x86_64.manylinux_2_17_x86_64.whl (15.9 MB)\n",
            "\u001b[2K   \u001b[90m━━━━━━━━━━━━━━━━━━━━━━━━━━━━━━━━━━━━━━━━\u001b[0m \u001b[32m15.9/15.9 MB\u001b[0m \u001b[31m76.9 MB/s\u001b[0m eta \u001b[36m0:00:00\u001b[0m\n",
            "\u001b[?25hInstalling collected packages: PyMuPDFb, pymupdf\n",
            "Successfully installed PyMuPDFb-1.24.9 pymupdf-1.24.9\n",
            "Reading package lists... Done\n",
            "Building dependency tree... Done\n",
            "Reading state information... Done\n",
            "tesseract-ocr is already the newest version (4.1.1-2.1build1).\n",
            "0 upgraded, 0 newly installed, 0 to remove and 45 not upgraded.\n",
            "Reading package lists... Done\n",
            "Building dependency tree... Done\n",
            "Reading state information... Done\n",
            "libtesseract-dev is already the newest version (4.1.1-2.1build1).\n",
            "0 upgraded, 0 newly installed, 0 to remove and 45 not upgraded.\n",
            "Reading package lists... Done\n",
            "Building dependency tree... Done\n",
            "Reading state information... Done\n",
            "poppler-utils is already the newest version (22.02.0-2ubuntu0.5).\n",
            "0 upgraded, 0 newly installed, 0 to remove and 45 not upgraded.\n"
          ]
        }
      ]
    },
    {
      "cell_type": "code",
      "source": [
        "from PIL import Image\n",
        "import pytesseract\n",
        "from PyPDF2 import PdfReader\n",
        "from pdf2image import convert_from_path\n",
        "import fitz  # PyMuPDF"
      ],
      "metadata": {
        "id": "s6pkX3wHzjfh"
      },
      "execution_count": null,
      "outputs": []
    },
    {
      "cell_type": "code",
      "source": [
        "def extract_text_from_image(image_path):\n",
        "    try:\n",
        "        image = Image.open(image_path)  # Open the image file using PIL's Image class\n",
        "        text = pytesseract.image_to_string(image)  # Use pytesseract to extract text from the image\n",
        "        return text  # Return the extracted text\n",
        "    except Exception as e:\n",
        "        return f\"An error occurred while extracting text from image: {e}\"\n",
        "\n",
        "# Function to extract text from text files\n",
        "def extract_text_from_text_file(file_path):\n",
        "    try:\n",
        "        with open(file_path, 'r') as file:\n",
        "            text = file.read()  # Read text from the file\n",
        "        return text\n",
        "    except Exception as e:\n",
        "        return f\"An error occurred while extracting text from text file: {e}\"\n",
        "\n",
        "# Function to extract text from PDF\n",
        "def extract_text_from_pdf(pdf_path):\n",
        "    try:\n",
        "        # Initialize PdfReader\n",
        "        reader = PdfReader(pdf_path)\n",
        "        text = \"\"\n",
        "        for page in reader.pages:\n",
        "            text += page.extract_text()  # Extract text from each page\n",
        "        return text\n",
        "    except Exception as e:\n",
        "        return f\"An error occurred while extracting text from PDF: {e}\"\n",
        "\n",
        "# Function to extract text from PDF using OCR\n",
        "def extract_text_from_pdf_ocr(pdf_path):\n",
        "    try:\n",
        "        images = convert_from_path(pdf_path)  # Convert PDF pages to images\n",
        "        text = \"\"\n",
        "        for image in images:\n",
        "            text += pytesseract.image_to_string(image)  # Extract text from each image using OCR\n",
        "        return text\n",
        "    except Exception as e:\n",
        "        return f\"An error occurred while extracting text from PDF using OCR: {e}\"\n",
        "\n",
        "# Function to extract text from PDF using PyMuPDF\n",
        "def extract_text_from_pdf_pymupdf(pdf_path):\n",
        "    try:\n",
        "        doc = fitz.open(pdf_path)\n",
        "        text = \"\"\n",
        "        for page in doc:\n",
        "            text += page.get_text()  # Extract text from each page using PyMuPDF\n",
        "        return text\n",
        "    except Exception as e:\n",
        "        return f\"An error occurred while extracting text from PDF using PyMuPDF: {e}\""
      ],
      "metadata": {
        "id": "tJl_mAKo0iY1"
      },
      "execution_count": null,
      "outputs": []
    },
    {
      "cell_type": "code",
      "source": [
        "if __name__ == \"__main__\":\n",
        "    image_path = '/content/my-new-photo.jpg'\n",
        "    pdf_path = '/content/DAY 3 MINI PROJECT.pdf'\n",
        "    text_file_path = '/content/hello to eveyome.txt'\n",
        "\n",
        "    print(\"Text from image:\")\n",
        "    print(extract_text_from_image(image_path))\n",
        "\n",
        "    print(\"\\nText from PDF:\")\n",
        "    print(extract_text_from_pdf(pdf_path))\n",
        "\n",
        "    print(\"\\nText from PDF using OCR:\")\n",
        "    print(extract_text_from_pdf_ocr(pdf_path))\n",
        "\n",
        "    print(\"\\nText from PDF using PyMuPDF:\")\n",
        "    print(extract_text_from_pdf_pymupdf(pdf_path))\n",
        "\n",
        "    print(\"\\nText from text file:\")\n",
        "    print(extract_text_from_text_file(text_file_path))"
      ],
      "metadata": {
        "colab": {
          "base_uri": "https://localhost:8080/"
        },
        "id": "PKz9HMj72_mC",
        "outputId": "f0f1b9a9-2521-4a80-ff0a-bea5a6701795"
      },
      "execution_count": null,
      "outputs": [
        {
          "output_type": "stream",
          "name": "stdout",
          "text": [
            "Text from image:\n",
            "ee\n",
            "ay\n",
            "\n",
            "  \n",
            "\f\n",
            "\n",
            "Text from PDF:\n",
            "DAY 3 – MINI PROJECT 04  \n",
            "Marks Adding  \n",
            "Code :  \n",
            "def calculate_total_marks(input_file, output_file):  \n",
            "    total_marks = 0  \n",
            "    with open(input_file, 'r') as file:  \n",
            "        lines = file.readlines()  \n",
            "        for line in lines:  \n",
            "            parts = line.strip().split(',')  \n",
            "            if len(parts) == 2:  \n",
            "                try: \n",
            "                    marks = int(parts[1].strip())  \n",
            "                    total_marks += marks  \n",
            "                except ValueError:  \n",
            "                    print(f\"Inval id mark '{parts[1]}' on line: {line.strip()}\")  \n",
            "                    with open(output_file, 'w') as file:  \n",
            "        file.write(f\"Total Marks: {total_marks}\")  \n",
            "input_file = 'input.txt'  \n",
            "output_file = 'output.txt'  \n",
            "calculate_total_marks(input_file, output_file)  \n",
            " \n",
            "Output :  \n",
            "Total Marks: 341  \n",
            ">>> \n",
            " \n",
            "\n",
            "Text from PDF using OCR:\n",
            "DAY 3 — MINI PROJECT 04\n",
            "Marks Adding\n",
            "\n",
            "Code:\n",
            "def calculate_total_marks(input_file, output_file):\n",
            "total_marks = 0\n",
            "with open(input_file, 'r') as file:\n",
            "lines = file.readlines()\n",
            "for line in lines:\n",
            "parts = line.strip().split(’,\")\n",
            "if len(parts) == 2:\n",
            "try:\n",
            "marks = int(parts[1].strip())\n",
            "total_marks += marks\n",
            "except ValueError:\n",
            "print(f\"Invalid mark '{parts[1]}' on line: {line.strip()}\")\n",
            "with open(output_file, 'w’) as file:\n",
            "file.write(f'Total Marks: {total_marks}\")\n",
            "input_file = 'input.txt’\n",
            "output_file = output.txt’\n",
            "\n",
            "calculate_total_marks(input_file, output_file)\n",
            "\n",
            "Output :\n",
            "Total Marks: 341\n",
            "\n",
            ">>>\n",
            "\f\n",
            "\n",
            "Text from PDF using PyMuPDF:\n",
            "DAY 3 – MINI PROJECT 04  \n",
            "Marks Adding  \n",
            "Code :  \n",
            "def calculate_total_marks(input_file, output_file): \n",
            "    total_marks = 0 \n",
            "    with open(input_file, 'r') as file: \n",
            "        lines = file.readlines() \n",
            "        for line in lines: \n",
            "            parts = line.strip().split(',') \n",
            "            if len(parts) == 2: \n",
            "                try: \n",
            "                    marks = int(parts[1].strip()) \n",
            "                    total_marks += marks \n",
            "                except ValueError: \n",
            "                    print(f\"Invalid mark '{parts[1]}' on line: {line.strip()}\") \n",
            "                    with open(output_file, 'w') as file: \n",
            "        file.write(f\"Total Marks: {total_marks}\") \n",
            "input_file = 'input.txt' \n",
            "output_file = 'output.txt' \n",
            "calculate_total_marks(input_file, output_file) \n",
            " \n",
            "Output : \n",
            "Total Marks: 341 \n",
            ">>> \n",
            " \n",
            "\n",
            "\n",
            "Text from text file:\n",
            "hello to eveyome \n"
          ]
        }
      ]
    }
  ]
}