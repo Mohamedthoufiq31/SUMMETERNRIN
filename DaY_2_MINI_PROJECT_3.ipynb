{
  "nbformat": 4,
  "nbformat_minor": 0,
  "metadata": {
    "colab": {
      "provenance": []
    },
    "kernelspec": {
      "name": "python3",
      "display_name": "Python 3"
    },
    "language_info": {
      "name": "python"
    }
  },
  "cells": [
    {
      "cell_type": "code",
      "execution_count": null,
      "metadata": {
        "colab": {
          "base_uri": "https://localhost:8080/"
        },
        "id": "110hwTGpTcms",
        "outputId": "59ff6069-307c-47c9-d8e5-d1f9debabe5f"
      },
      "outputs": [
        {
          "output_type": "stream",
          "name": "stdout",
          "text": [
            "Time taken to convert 200MB file: 2.56 seconds\n",
            "Time taken to convert 400MB file: 3.86 seconds\n",
            "Time taken to convert 600MB file: 6.13 seconds\n",
            "Time taken to convert 800MB file: 12.63 seconds\n",
            "Time taken to convert 1000MB file: 16.94 seconds\n"
          ]
        }
      ],
      "source": [
        "import time\n",
        "import os\n",
        "\n",
        "def create_file(file_path, size_mb):\n",
        "    with open(file_path, 'w') as f:\n",
        "        # Writing random data of specified size\n",
        "        f.write(\"Random text\" * (size_mb * 1024 * 1024 // 11))  # approximating size in bytes\n",
        "\n",
        "def convert_to_uppercase(file_path):\n",
        "    with open(file_path, 'r') as f:\n",
        "        data = f.read()\n",
        "\n",
        "    converted_data = data.upper()\n",
        "\n",
        "    with open(file_path, 'w') as f:\n",
        "        f.write(converted_data)\n",
        "\n",
        "if __name__ == \"__main__\":\n",
        "    file_sizes = [200, 400, 600, 800, 1000]  # in MB\n",
        "    for size in file_sizes:\n",
        "        file_path = f'file_{size}MB.txt'\n",
        "\n",
        "        # Create a file of specific size with random text\n",
        "        create_file(file_path, size)\n",
        "\n",
        "        start_time = time.time()\n",
        "        convert_to_uppercase(file_path)\n",
        "        end_time = time.time()\n",
        "\n",
        "        print(f\"Time taken to convert {size}MB file: {end_time - start_time:.2f} seconds\")\n",
        "\n"
      ]
    }
  ]
}